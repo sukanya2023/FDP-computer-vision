{
  "nbformat": 4,
  "nbformat_minor": 0,
  "metadata": {
    "colab": {
      "provenance": [],
      "mount_file_id": "1GB3DW1CHUJmpo-hYDxLFSgZC_oQQi1aw",
      "authorship_tag": "ABX9TyP+izXhaF/+SbHoLki7FKSb",
      "include_colab_link": true
    },
    "kernelspec": {
      "name": "python3",
      "display_name": "Python 3"
    },
    "language_info": {
      "name": "python"
    },
    "accelerator": "GPU",
    "gpuClass": "standard"
  },
  "cells": [
    {
      "cell_type": "markdown",
      "metadata": {
        "id": "view-in-github",
        "colab_type": "text"
      },
      "source": [
        "<a href=\"https://colab.research.google.com/github/sukanya2023/FDP-computer-vision/blob/main/DL_Network.ipynb\" target=\"_parent\"><img src=\"https://colab.research.google.com/assets/colab-badge.svg\" alt=\"Open In Colab\"/></a>"
      ]
    },
    {
      "cell_type": "code",
      "execution_count": null,
      "metadata": {
        "id": "XdwE975SXCok"
      },
      "outputs": [],
      "source": []
    },
    {
      "cell_type": "code",
      "source": [
        "import os"
      ],
      "metadata": {
        "id": "3-WZlZ7-YM0V"
      },
      "execution_count": 1,
      "outputs": []
    },
    {
      "cell_type": "code",
      "source": [
        "os.chdir('/content/drive/MyDrive/FDP')"
      ],
      "metadata": {
        "id": "Ju2Scm4SYlcu"
      },
      "execution_count": 2,
      "outputs": []
    },
    {
      "cell_type": "code",
      "source": [
        "#rrdgtfg\n",
        "pwd\n"
      ],
      "metadata": {
        "colab": {
          "base_uri": "https://localhost:8080/",
          "height": 183
        },
        "id": "pBK2buEZam6E",
        "outputId": "baccc19b-aeb2-4fb6-c86c-5ac360d26430"
      },
      "execution_count": 10,
      "outputs": [
        {
          "output_type": "error",
          "ename": "NameError",
          "evalue": "ignored",
          "traceback": [
            "\u001b[0;31m---------------------------------------------------------------------------\u001b[0m",
            "\u001b[0;31mNameError\u001b[0m                                 Traceback (most recent call last)",
            "\u001b[0;32m<ipython-input-10-bccba89cabc2>\u001b[0m in \u001b[0;36m<module>\u001b[0;34m\u001b[0m\n\u001b[1;32m      1\u001b[0m \u001b[0;31m#rrdgtfg\u001b[0m\u001b[0;34m\u001b[0m\u001b[0;34m\u001b[0m\u001b[0;34m\u001b[0m\u001b[0m\n\u001b[0;32m----> 2\u001b[0;31m \u001b[0mpwd\u001b[0m\u001b[0;34m\u001b[0m\u001b[0;34m\u001b[0m\u001b[0m\n\u001b[0m",
            "\u001b[0;31mNameError\u001b[0m: name 'pwd' is not defined"
          ]
        }
      ]
    },
    {
      "cell_type": "code",
      "source": [
        "#present working directory\n",
        "pwd()"
      ],
      "metadata": {
        "colab": {
          "base_uri": "https://localhost:8080/",
          "height": 183
        },
        "id": "YQfDK5XlZxc-",
        "outputId": "c03f2cda-bc0e-480d-d5fc-2dabb1e9494f"
      },
      "execution_count": 11,
      "outputs": [
        {
          "output_type": "error",
          "ename": "NameError",
          "evalue": "ignored",
          "traceback": [
            "\u001b[0;31m---------------------------------------------------------------------------\u001b[0m",
            "\u001b[0;31mNameError\u001b[0m                                 Traceback (most recent call last)",
            "\u001b[0;32m<ipython-input-11-b36d582803f5>\u001b[0m in \u001b[0;36m<module>\u001b[0;34m\u001b[0m\n\u001b[1;32m      1\u001b[0m \u001b[0;31m#present working directory\u001b[0m\u001b[0;34m\u001b[0m\u001b[0;34m\u001b[0m\u001b[0;34m\u001b[0m\u001b[0m\n\u001b[0;32m----> 2\u001b[0;31m \u001b[0mpwd\u001b[0m\u001b[0;34m(\u001b[0m\u001b[0;34m)\u001b[0m\u001b[0;34m\u001b[0m\u001b[0;34m\u001b[0m\u001b[0m\n\u001b[0m",
            "\u001b[0;31mNameError\u001b[0m: name 'pwd' is not defined"
          ]
        }
      ]
    },
    {
      "cell_type": "code",
      "source": [
        "pwd"
      ],
      "metadata": {
        "colab": {
          "base_uri": "https://localhost:8080/",
          "height": 35
        },
        "id": "6c8a6W09aBPO",
        "outputId": "82e75a72-18a7-45d5-c8c5-981393e2ce70"
      },
      "execution_count": 4,
      "outputs": [
        {
          "output_type": "execute_result",
          "data": {
            "text/plain": [
              "'/content/drive/MyDrive/FDP'"
            ],
            "application/vnd.google.colaboratory.intrinsic+json": {
              "type": "string"
            }
          },
          "metadata": {},
          "execution_count": 4
        }
      ]
    },
    {
      "cell_type": "code",
      "source": [
        "import tensorflow as tf"
      ],
      "metadata": {
        "id": "l7biRWDZaFGt"
      },
      "execution_count": 12,
      "outputs": []
    },
    {
      "cell_type": "code",
      "source": [
        "mnist_data = tf.keras.datasets.mnist"
      ],
      "metadata": {
        "id": "BUcQr4mLa7-e"
      },
      "execution_count": 14,
      "outputs": []
    },
    {
      "cell_type": "code",
      "source": [
        "(x_train, y_train),(x_test, y_test) = mnist_data.load_data()"
      ],
      "metadata": {
        "colab": {
          "base_uri": "https://localhost:8080/"
        },
        "id": "sxGrmPG5cUiK",
        "outputId": "5a529818-bedd-4e23-ebe9-cf5e7a732c77"
      },
      "execution_count": 16,
      "outputs": [
        {
          "output_type": "stream",
          "name": "stdout",
          "text": [
            "Downloading data from https://storage.googleapis.com/tensorflow/tf-keras-datasets/mnist.npz\n",
            "11490434/11490434 [==============================] - 0s 0us/step\n"
          ]
        }
      ]
    },
    {
      "cell_type": "code",
      "source": [
        "x_train.shape"
      ],
      "metadata": {
        "colab": {
          "base_uri": "https://localhost:8080/"
        },
        "id": "oN4mHywndbD_",
        "outputId": "dae5bd75-1879-41bd-82f3-abf59b5e822f"
      },
      "execution_count": 17,
      "outputs": [
        {
          "output_type": "execute_result",
          "data": {
            "text/plain": [
              "(60000, 28, 28)"
            ]
          },
          "metadata": {},
          "execution_count": 17
        }
      ]
    },
    {
      "cell_type": "code",
      "source": [
        "y_train.shape"
      ],
      "metadata": {
        "colab": {
          "base_uri": "https://localhost:8080/"
        },
        "id": "d9WOL8tWdfkX",
        "outputId": "9c968890-6a32-44d6-848c-cbb290bb45eb"
      },
      "execution_count": 18,
      "outputs": [
        {
          "output_type": "execute_result",
          "data": {
            "text/plain": [
              "(60000,)"
            ]
          },
          "metadata": {},
          "execution_count": 18
        }
      ]
    },
    {
      "cell_type": "code",
      "source": [
        "x_test.shape"
      ],
      "metadata": {
        "colab": {
          "base_uri": "https://localhost:8080/"
        },
        "id": "R4BOMW-LdrF-",
        "outputId": "28bd1b9d-a509-4d0f-c6ee-8d767bb49ad3"
      },
      "execution_count": 19,
      "outputs": [
        {
          "output_type": "execute_result",
          "data": {
            "text/plain": [
              "(10000, 28, 28)"
            ]
          },
          "metadata": {},
          "execution_count": 19
        }
      ]
    },
    {
      "cell_type": "code",
      "source": [
        "y_test.shape"
      ],
      "metadata": {
        "colab": {
          "base_uri": "https://localhost:8080/"
        },
        "id": "Rbeb9hl5dy_u",
        "outputId": "065f3eee-b172-41af-ec23-2dd279209b32"
      },
      "execution_count": 20,
      "outputs": [
        {
          "output_type": "execute_result",
          "data": {
            "text/plain": [
              "(10000,)"
            ]
          },
          "metadata": {},
          "execution_count": 20
        }
      ]
    },
    {
      "cell_type": "code",
      "source": [
        "y_train[0]"
      ],
      "metadata": {
        "colab": {
          "base_uri": "https://localhost:8080/"
        },
        "id": "rwUaDuiTd3fe",
        "outputId": "7c63158d-1ff7-4c55-beed-4d284251c186"
      },
      "execution_count": 21,
      "outputs": [
        {
          "output_type": "execute_result",
          "data": {
            "text/plain": [
              "5"
            ]
          },
          "metadata": {},
          "execution_count": 21
        }
      ]
    },
    {
      "cell_type": "code",
      "source": [
        "import matplotlib.pyplot as plt"
      ],
      "metadata": {
        "id": "a9IdOeObeV8f"
      },
      "execution_count": 24,
      "outputs": []
    },
    {
      "cell_type": "code",
      "source": [
        "plt.imshow(x_train[0], cmap=\"binary\")\n",
        "plt.show()"
      ],
      "metadata": {
        "colab": {
          "base_uri": "https://localhost:8080/",
          "height": 265
        },
        "id": "3T7_gIn2eeI_",
        "outputId": "c690297b-8728-4613-abbd-93e2d14f0385"
      },
      "execution_count": 25,
      "outputs": [
        {
          "output_type": "display_data",
          "data": {
            "text/plain": [
              "<Figure size 432x288 with 1 Axes>"
            ],
            "image/png": "[encoded data removed]"
          },
          "metadata": {
            "needs_background": "light"
          }
        }
      ]
    },
    {
      "cell_type": "code",
      "source": [
        "plt.imshow(x_train[1], cmap=\"binary\")\n",
        "plt.show()"
      ],
      "metadata": {
        "colab": {
          "base_uri": "https://localhost:8080/",
          "height": 265
        },
        "id": "aMk4HRdLfFAO",
        "outputId": "d9bafa03-7276-4639-9d43-962f5b503045"
      },
      "execution_count": 26,
      "outputs": [
        {
          "output_type": "display_data",
          "data": {
            "text/plain": [
              "<Figure size 432x288 with 1 Axes>"
            ],
            "image/png": "[encoded data removed]"
          },
          "metadata": {
            "needs_background": "light"
          }
        }
      ]
    },
    {
      "cell_type": "code",
      "source": [
        "y_train[2]"
      ],
      "metadata": {
        "colab": {
          "base_uri": "https://localhost:8080/"
        },
        "id": "HS-vxVwPfcPg",
        "outputId": "de666069-79f4-4731-b882-880c232795ca"
      },
      "execution_count": 28,
      "outputs": [
        {
          "output_type": "execute_result",
          "data": {
            "text/plain": [
              "4"
            ]
          },
          "metadata": {},
          "execution_count": 28
        }
      ]
    },
    {
      "cell_type": "code",
      "source": [
        "plt.imshow(x_train[2], cmap=\"binary\")\n",
        "plt.show()"
      ],
      "metadata": {
        "colab": {
          "base_uri": "https://localhost:8080/",
          "height": 265
        },
        "id": "9dhjxInmfo4g",
        "outputId": "d65ed93f-46d7-4ec3-dd4b-c00849dccd77"
      },
      "execution_count": 29,
      "outputs": [
        {
          "output_type": "display_data",
          "data": {
            "text/plain": [
              "<Figure size 432x288 with 1 Axes>"
            ],
            "image/png": "[encoded data removed]"
          },
          "metadata": {
            "needs_background": "light"
          }
        }
      ]
    },
    {
      "cell_type": "code",
      "source": [
        "import seaborn as sns"
      ],
      "metadata": {
        "id": "h10DaWI2fuAP"
      },
      "execution_count": 34,
      "outputs": []
    },
    {
      "cell_type": "code",
      "source": [
        "plt.figure(figsize=(15,15))\n",
        "sns.heatmap(x_train[2], annot=True, cmap='binary')"
      ],
      "metadata": {
        "colab": {
          "base_uri": "https://localhost:8080/",
          "height": 880
        },
        "id": "Gb0Qx4eHf_5w",
        "outputId": "ab31bdac-a07a-4eb2-9121-fae356356f2e"
      },
      "execution_count": 37,
      "outputs": [
        {
          "output_type": "execute_result",
          "data": {
            "text/plain": [
              "<matplotlib.axes._subplots.AxesSubplot at 0x7feae7b66310>"
            ]
          },
          "metadata": {},
          "execution_count": 37
        },
        {
          "output_type": "display_data",
          "data": {
            "text/plain": [
              "<Figure size 1080x1080 with 2 Axes>"
            ],
            "image/png": "[encoded data removed]"
          },
          "metadata": {
            "needs_background": "light"
          }
        }
      ]
    },
    {
      "cell_type": "code",
      "source": [
        "#scaling- normalisation\n",
        "x_train = x_train/255.\n",
        "x_test =x_test/255."
      ],
      "metadata": {
        "id": "ZlZNXnGEgwYP"
      },
      "execution_count": 38,
      "outputs": []
    },
    {
      "cell_type": "code",
      "source": [
        "#validation split up\n",
        "x_valid, x_train = x_train[:5000], x_train[5000:]\n",
        "y_valid, y_train = y_train[:5000], y_train[5000:]\n"
      ],
      "metadata": {
        "id": "YDvwjOkXmFdi"
      },
      "execution_count": 39,
      "outputs": []
    },
    {
      "cell_type": "code",
      "source": [
        "x_valid.shape"
      ],
      "metadata": {
        "colab": {
          "base_uri": "https://localhost:8080/"
        },
        "id": "6GA3TiNOm86s",
        "outputId": "a3c450bd-8633-4d62-b31f-7bcc59f66be9"
      },
      "execution_count": 40,
      "outputs": [
        {
          "output_type": "execute_result",
          "data": {
            "text/plain": [
              "(5000, 28, 28)"
            ]
          },
          "metadata": {},
          "execution_count": 40
        }
      ]
    },
    {
      "cell_type": "code",
      "source": [
        "x_train.shape"
      ],
      "metadata": {
        "colab": {
          "base_uri": "https://localhost:8080/"
        },
        "id": "8As6267enAOx",
        "outputId": "076a06af-53c6-460c-cc0c-1afd5423b719"
      },
      "execution_count": 41,
      "outputs": [
        {
          "output_type": "execute_result",
          "data": {
            "text/plain": [
              "(55000, 28, 28)"
            ]
          },
          "metadata": {},
          "execution_count": 41
        }
      ]
    },
    {
      "cell_type": "code",
      "source": [
        "plt.figure(figsize=(15,15))\n",
        "sns.heatmap(x_train[2], annot=True, cmap='binary')"
      ],
      "metadata": {
        "colab": {
          "base_uri": "https://localhost:8080/",
          "height": 884
        },
        "id": "xXDDsuX5nEUR",
        "outputId": "ae0f0586-666f-4d87-efab-6592e80cf810"
      },
      "execution_count": 42,
      "outputs": [
        {
          "output_type": "execute_result",
          "data": {
            "text/plain": [
              "<matplotlib.axes._subplots.AxesSubplot at 0x7feae97bd7c0>"
            ]
          },
          "metadata": {},
          "execution_count": 42
        },
        {
          "output_type": "display_data",
          "data": {
            "text/plain": [
              "<Figure size 1080x1080 with 2 Axes>"
            ],
            "image/png": "[encoded data removed]"
          },
          "metadata": {
            "needs_background": "light"
          }
        }
      ]
    },
    {
      "cell_type": "code",
      "source": [
        "#creating layers\n",
        "LAYERS =[tf.keras.layers.Flatten(input_shape=[28,28], name=\"inputlayer\"), \n",
        "         tf.keras.layers.Dense(300, activation='relu', name = \"hiddenlayer1\"),\n",
        "         tf.keras.layers.Dense(100, activation='relu', name = \"hiddenlayer2\"),\n",
        "         tf.keras.layers.Dense(10, activation='softmax', name = \"outputlayer\")\n",
        "         ]"
      ],
      "metadata": {
        "id": "WuTUiLfPnO9R"
      },
      "execution_count": 43,
      "outputs": []
    },
    {
      "cell_type": "code",
      "source": [
        "#create model\n",
        "model1 = tf.keras.models.Sequential(LAYERS)"
      ],
      "metadata": {
        "id": "znGMh__2qW1i"
      },
      "execution_count": 44,
      "outputs": []
    },
    {
      "cell_type": "code",
      "source": [
        "model1.summary()"
      ],
      "metadata": {
        "colab": {
          "base_uri": "https://localhost:8080/"
        },
        "id": "fD5QVmaSseYW",
        "outputId": "c90377dd-bd00-4018-bbc0-f46fb2b3ce16"
      },
      "execution_count": 45,
      "outputs": [
        {
          "output_type": "stream",
          "name": "stdout",
          "text": [
            "Model: \"sequential\"\n",
            "_________________________________________________________________\n",
            " Layer (type)                Output Shape              Param #   \n",
            "=================================================================\n",
            " inputlayer (Flatten)        (None, 784)               0         \n",
            "                                                                 \n",
            " hiddenlayer1 (Dense)        (None, 300)               235500    \n",
            "                                                                 \n",
            " hiddenlayer2 (Dense)        (None, 100)               30100     \n",
            "                                                                 \n",
            " outputlayer (Dense)         (None, 10)                1010      \n",
            "                                                                 \n",
            "=================================================================\n",
            "Total params: 266,610\n",
            "Trainable params: 266,610\n",
            "Non-trainable params: 0\n",
            "_________________________________________________________________\n"
          ]
        }
      ]
    },
    {
      "cell_type": "code",
      "source": [
        "#hypermodel\n",
        "LOSS_FUNCTION=\"sparse_categorical_crossentropy\"\n",
        "OPTIMIZER=\"adam\"\n",
        "METRICS=[\"accuracy\"]"
      ],
      "metadata": {
        "id": "7P07TgR7si7j"
      },
      "execution_count": 46,
      "outputs": []
    },
    {
      "cell_type": "code",
      "source": [
        "#compile the model\n",
        "model1.compile(loss=LOSS_FUNCTION, optimizer= OPTIMIZER, metrics=METRICS)"
      ],
      "metadata": {
        "id": "x7NirFKau44z"
      },
      "execution_count": 48,
      "outputs": []
    },
    {
      "cell_type": "code",
      "source": [
        "model1.layers\n"
      ],
      "metadata": {
        "colab": {
          "base_uri": "https://localhost:8080/"
        },
        "id": "nnLRxCGXvT9t",
        "outputId": "1f949713-e275-4d9a-eccd-4b9a85c99256"
      },
      "execution_count": 50,
      "outputs": [
        {
          "output_type": "execute_result",
          "data": {
            "text/plain": [
              "[<keras.layers.reshaping.flatten.Flatten at 0x7feae2f0b5e0>,\n",
              " <keras.layers.core.dense.Dense at 0x7feaebd9cc70>,\n",
              " <keras.layers.core.dense.Dense at 0x7feae96e22e0>,\n",
              " <keras.layers.core.dense.Dense at 0x7feae9607a60>]"
            ]
          },
          "metadata": {},
          "execution_count": 50
        }
      ]
    },
    {
      "cell_type": "code",
      "source": [
        "model1.layers[0]\n"
      ],
      "metadata": {
        "colab": {
          "base_uri": "https://localhost:8080/"
        },
        "id": "pPQv05Gbxqkv",
        "outputId": "f37272cc-fce2-4111-de16-933694c3b658"
      },
      "execution_count": 51,
      "outputs": [
        {
          "output_type": "execute_result",
          "data": {
            "text/plain": [
              "<keras.layers.reshaping.flatten.Flatten at 0x7feae2f0b5e0>"
            ]
          },
          "metadata": {},
          "execution_count": 51
        }
      ]
    },
    {
      "cell_type": "code",
      "source": [
        "model1.layers[0].name\n"
      ],
      "metadata": {
        "colab": {
          "base_uri": "https://localhost:8080/",
          "height": 35
        },
        "id": "aKjMggeRxwek",
        "outputId": "15a8b128-75a5-494a-e36f-a7fe1b7e5bed"
      },
      "execution_count": 52,
      "outputs": [
        {
          "output_type": "execute_result",
          "data": {
            "text/plain": [
              "'inputlayer'"
            ],
            "application/vnd.google.colaboratory.intrinsic+json": {
              "type": "string"
            }
          },
          "metadata": {},
          "execution_count": 52
        }
      ]
    },
    {
      "cell_type": "code",
      "source": [
        "hidden1=model1.layers[1]"
      ],
      "metadata": {
        "id": "qssdcFdbx4h0"
      },
      "execution_count": 53,
      "outputs": []
    },
    {
      "cell_type": "code",
      "source": [
        "w,b=hidden1.get_weights()"
      ],
      "metadata": {
        "id": "2gX7kAaYyI7F"
      },
      "execution_count": 54,
      "outputs": []
    },
    {
      "cell_type": "code",
      "source": [
        "w #weight"
      ],
      "metadata": {
        "colab": {
          "base_uri": "https://localhost:8080/"
        },
        "id": "Qel9NdRvySRl",
        "outputId": "b7925384-1a99-41ba-c67b-1fde206ee970"
      },
      "execution_count": 55,
      "outputs": [
        {
          "output_type": "execute_result",
          "data": {
            "text/plain": [
              "array([[-0.07145217, -0.07038286, -0.03322887, ..., -0.05518594,\n",
              "        -0.06873596,  0.03622746],\n",
              "       [-0.06978177, -0.03433046, -0.01321555, ..., -0.06961359,\n",
              "        -0.04364541,  0.06914102],\n",
              "       [ 0.00708278,  0.05782911, -0.05247559, ..., -0.04749569,\n",
              "        -0.00312475, -0.03784004],\n",
              "       ...,\n",
              "       [-0.02733909, -0.03691409, -0.00866957, ...,  0.06470948,\n",
              "        -0.00970883, -0.01413393],\n",
              "       [ 0.05797963,  0.00786325, -0.02801859, ...,  0.00179928,\n",
              "         0.05152559, -0.03665356],\n",
              "       [-0.01823549, -0.05789921, -0.05397404, ...,  0.04610377,\n",
              "         0.06119628, -0.02162168]], dtype=float32)"
            ]
          },
          "metadata": {},
          "execution_count": 55
        }
      ]
    },
    {
      "cell_type": "code",
      "source": [
        "b #bias"
      ],
      "metadata": {
        "colab": {
          "base_uri": "https://localhost:8080/"
        },
        "id": "YyUtC7U6yXZE",
        "outputId": "45c6e2b6-2d9a-4e5e-9462-2c97fd7e808d"
      },
      "execution_count": 56,
      "outputs": [
        {
          "output_type": "execute_result",
          "data": {
            "text/plain": [
              "array([0., 0., 0., 0., 0., 0., 0., 0., 0., 0., 0., 0., 0., 0., 0., 0., 0.,\n",
              "       0., 0., 0., 0., 0., 0., 0., 0., 0., 0., 0., 0., 0., 0., 0., 0., 0.,\n",
              "       0., 0., 0., 0., 0., 0., 0., 0., 0., 0., 0., 0., 0., 0., 0., 0., 0.,\n",
              "       0., 0., 0., 0., 0., 0., 0., 0., 0., 0., 0., 0., 0., 0., 0., 0., 0.,\n",
              "       0., 0., 0., 0., 0., 0., 0., 0., 0., 0., 0., 0., 0., 0., 0., 0., 0.,\n",
              "       0., 0., 0., 0., 0., 0., 0., 0., 0., 0., 0., 0., 0., 0., 0., 0., 0.,\n",
              "       0., 0., 0., 0., 0., 0., 0., 0., 0., 0., 0., 0., 0., 0., 0., 0., 0.,\n",
              "       0., 0., 0., 0., 0., 0., 0., 0., 0., 0., 0., 0., 0., 0., 0., 0., 0.,\n",
              "       0., 0., 0., 0., 0., 0., 0., 0., 0., 0., 0., 0., 0., 0., 0., 0., 0.,\n",
              "       0., 0., 0., 0., 0., 0., 0., 0., 0., 0., 0., 0., 0., 0., 0., 0., 0.,\n",
              "       0., 0., 0., 0., 0., 0., 0., 0., 0., 0., 0., 0., 0., 0., 0., 0., 0.,\n",
              "       0., 0., 0., 0., 0., 0., 0., 0., 0., 0., 0., 0., 0., 0., 0., 0., 0.,\n",
              "       0., 0., 0., 0., 0., 0., 0., 0., 0., 0., 0., 0., 0., 0., 0., 0., 0.,\n",
              "       0., 0., 0., 0., 0., 0., 0., 0., 0., 0., 0., 0., 0., 0., 0., 0., 0.,\n",
              "       0., 0., 0., 0., 0., 0., 0., 0., 0., 0., 0., 0., 0., 0., 0., 0., 0.,\n",
              "       0., 0., 0., 0., 0., 0., 0., 0., 0., 0., 0., 0., 0., 0., 0., 0., 0.,\n",
              "       0., 0., 0., 0., 0., 0., 0., 0., 0., 0., 0., 0., 0., 0., 0., 0., 0.,\n",
              "       0., 0., 0., 0., 0., 0., 0., 0., 0., 0., 0.], dtype=float32)"
            ]
          },
          "metadata": {},
          "execution_count": 56
        }
      ]
    },
    {
      "cell_type": "code",
      "source": [
        "#train the model\n",
        "#EPOCHS - forward and backward paths\n",
        "EPOCHS=5\n",
        "VALIDATION_SET=(x_valid, y_valid)"
      ],
      "metadata": {
        "id": "Go4crngZybR0"
      },
      "execution_count": 57,
      "outputs": []
    },
    {
      "cell_type": "code",
      "source": [
        "#traning phase\n",
        "history=model1.fit(x_train, y_train, epochs=EPOCHS, validation_data=VALIDATION_SET)\n"
      ],
      "metadata": {
        "colab": {
          "base_uri": "https://localhost:8080/"
        },
        "id": "hhUPaEI0zR4l",
        "outputId": "25c9e7ee-228e-495f-a268-511f11a1e583"
      },
      "execution_count": 58,
      "outputs": [
        {
          "output_type": "stream",
          "name": "stdout",
          "text": [
            "Epoch 1/5\n",
            "1719/1719 [==============================] - 8s 3ms/step - loss: 0.2121 - accuracy: 0.9362 - val_loss: 0.1198 - val_accuracy: 0.9650\n",
            "Epoch 2/5\n",
            "1719/1719 [==============================] - 5s 3ms/step - loss: 0.0872 - accuracy: 0.9734 - val_loss: 0.0842 - val_accuracy: 0.9744\n",
            "Epoch 3/5\n",
            "1719/1719 [==============================] - 5s 3ms/step - loss: 0.0614 - accuracy: 0.9805 - val_loss: 0.0738 - val_accuracy: 0.9788\n",
            "Epoch 4/5\n",
            "1719/1719 [==============================] - 5s 3ms/step - loss: 0.0447 - accuracy: 0.9855 - val_loss: 0.0766 - val_accuracy: 0.9784\n",
            "Epoch 5/5\n",
            "1719/1719 [==============================] - 5s 3ms/step - loss: 0.0348 - accuracy: 0.9884 - val_loss: 0.0944 - val_accuracy: 0.9738\n"
          ]
        }
      ]
    },
    {
      "cell_type": "code",
      "source": [
        "#prediction\n",
        "prediction=model1.predict(x_test[0])"
      ],
      "metadata": {
        "colab": {
          "base_uri": "https://localhost:8080/"
        },
        "id": "uHcqppmlz4mu",
        "outputId": "d3a4ce86-3918-44c1-dabd-653cec2ed197"
      },
      "execution_count": 71,
      "outputs": [
        {
          "output_type": "stream",
          "name": "stdout",
          "text": [
            "1/1 [==============================] - 0s 14ms/step\n"
          ]
        }
      ]
    },
    {
      "cell_type": "code",
      "source": [
        "prediction #probabilties for being inputs are 0 ,1,2.....9"
      ],
      "metadata": {
        "colab": {
          "base_uri": "https://localhost:8080/"
        },
        "id": "yDSFNUda11xQ",
        "outputId": "abf2f19a-4594-47aa-bb80-c83ad076dcac"
      },
      "execution_count": 72,
      "outputs": [
        {
          "output_type": "execute_result",
          "data": {
            "text/plain": [
              "array([[1.7326327e-08, 2.1245337e-09, 2.3130760e-07, 7.3832734e-07,\n",
              "        1.6736007e-09, 7.1887989e-08, 1.5165819e-13, 9.9999022e-01,\n",
              "        2.4665775e-08, 8.6203827e-06]], dtype=float32)"
            ]
          },
          "metadata": {},
          "execution_count": 72
        }
      ]
    },
    {
      "cell_type": "code",
      "source": [
        "y_test[0]"
      ],
      "metadata": {
        "colab": {
          "base_uri": "https://localhost:8080/"
        },
        "id": "afDSEN5_2kaG",
        "outputId": "12e0fe0b-ea7f-4c49-b573-ed2fa3af9bbd"
      },
      "execution_count": 73,
      "outputs": [
        {
          "output_type": "execute_result",
          "data": {
            "text/plain": [
              "7"
            ]
          },
          "metadata": {},
          "execution_count": 73
        }
      ]
    },
    {
      "cell_type": "code",
      "source": [
        "import numpy as np"
      ],
      "metadata": {
        "id": "YLtkbASb3TIW"
      },
      "execution_count": 74,
      "outputs": []
    },
    {
      "cell_type": "code",
      "source": [
        "#predicted value\n",
        "np.argmax(prediction)"
      ],
      "metadata": {
        "colab": {
          "base_uri": "https://localhost:8080/"
        },
        "id": "s5FUlB_S3jZ2",
        "outputId": "b121e786-12de-4da2-f2ba-6252378c0c34"
      },
      "execution_count": 75,
      "outputs": [
        {
          "output_type": "execute_result",
          "data": {
            "text/plain": [
              "7"
            ]
          },
          "metadata": {},
          "execution_count": 75
        }
      ]
    },
    {
      "cell_type": "code",
      "source": [
        "#actual Value\n",
        "y_test[0]"
      ],
      "metadata": {
        "colab": {
          "base_uri": "https://localhost:8080/"
        },
        "id": "6-xSrNOz3qiH",
        "outputId": "bdff3e9f-1f76-4309-aea2-abf4708bf76a"
      },
      "execution_count": 76,
      "outputs": [
        {
          "output_type": "execute_result",
          "data": {
            "text/plain": [
              "7"
            ]
          },
          "metadata": {},
          "execution_count": 76
        }
      ]
    },
    {
      "cell_type": "code",
      "source": [
        "#to test the entire images\n",
        "model1.predict(x_test)"
      ],
      "metadata": {
        "colab": {
          "base_uri": "https://localhost:8080/"
        },
        "id": "eszQf_3O4Unn",
        "outputId": "7bc0c3c9-0779-491c-c247-e7fa9aadc3f1"
      },
      "execution_count": 77,
      "outputs": [
        {
          "output_type": "stream",
          "name": "stdout",
          "text": [
            "313/313 [==============================] - 1s 2ms/step\n"
          ]
        },
        {
          "output_type": "execute_result",
          "data": {
            "text/plain": [
              "array([[1.7326327e-08, 2.1245337e-09, 2.3130760e-07, ..., 9.9999022e-01,\n",
              "        2.4665775e-08, 8.6203827e-06],\n",
              "       [2.6821136e-08, 2.8658312e-07, 9.9999881e-01, ..., 3.6480096e-13,\n",
              "        2.2576283e-07, 4.0113663e-12],\n",
              "       [5.6986471e-07, 9.9946696e-01, 3.8473539e-05, ..., 2.2269059e-04,\n",
              "        2.0969541e-04, 4.8194767e-07],\n",
              "       ...,\n",
              "       [2.0119338e-13, 2.5084381e-09, 5.8402803e-11, ..., 1.2192318e-07,\n",
              "        3.3205446e-08, 8.9212135e-06],\n",
              "       [4.2442365e-12, 2.1393437e-13, 4.0947653e-16, ..., 7.4694906e-10,\n",
              "        5.5075571e-08, 1.5132945e-12],\n",
              "       [6.9245765e-09, 1.3386854e-13, 1.3828663e-10, ..., 6.5497128e-15,\n",
              "        1.2681450e-10, 2.8737518e-11]], dtype=float32)"
            ]
          },
          "metadata": {},
          "execution_count": 77
        }
      ]
    },
    {
      "cell_type": "code",
      "source": [
        "#to test the accuracy of the model\n",
        "test_accuracy=model1.evaluate(x_test, y_test)"
      ],
      "metadata": {
        "colab": {
          "base_uri": "https://localhost:8080/"
        },
        "id": "jxKnVzpi6WjI",
        "outputId": "383a7a0d-a5c5-40a3-fc85-0a2fc979473c"
      },
      "execution_count": 78,
      "outputs": [
        {
          "output_type": "stream",
          "name": "stdout",
          "text": [
            "313/313 [==============================] - 1s 3ms/step - loss: 0.0885 - accuracy: 0.9756\n"
          ]
        }
      ]
    },
    {
      "cell_type": "code",
      "source": [
        "#loss and accuracy\n",
        "test_accuracy"
      ],
      "metadata": {
        "colab": {
          "base_uri": "https://localhost:8080/"
        },
        "id": "KfJHBm2360aX",
        "outputId": "f166ee3e-6689-4e4d-8228-ca10c889eaf1"
      },
      "execution_count": 79,
      "outputs": [
        {
          "output_type": "execute_result",
          "data": {
            "text/plain": [
              "[0.088486447930336, 0.975600004196167]"
            ]
          },
          "metadata": {},
          "execution_count": 79
        }
      ]
    },
    {
      "cell_type": "code",
      "source": [],
      "metadata": {
        "id": "eWOUC4397AjX"
      },
      "execution_count": null,
      "outputs": []
    }
  ]
}